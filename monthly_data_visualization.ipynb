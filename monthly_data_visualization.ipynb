{
 "cells": [
  {
   "cell_type": "markdown",
   "metadata": {},
   "source": [
    "# 월별 노인 교통 사고\n",
    "- 출처) 도로교통공단.\n",
    "1. 노인은 65세 이상임\n",
    "2. 부상자수는 중상자수，경상자수，부상신고자수의 합계.\t"
   ]
  },
  {
   "cell_type": "code",
   "execution_count": 1,
   "metadata": {},
   "outputs": [],
   "source": [
    "import pandas as pd"
   ]
  },
  {
   "cell_type": "code",
   "execution_count": 2,
   "metadata": {},
   "outputs": [],
   "source": [
    "df = pd.read_csv('data\\\\month.csv',encoding='CP949',header=1)"
   ]
  },
  {
   "cell_type": "code",
   "execution_count": 13,
   "metadata": {},
   "outputs": [
    {
     "data": {
      "text/html": [
       "<div>\n",
       "<style scoped>\n",
       "    .dataframe tbody tr th:only-of-type {\n",
       "        vertical-align: middle;\n",
       "    }\n",
       "\n",
       "    .dataframe tbody tr th {\n",
       "        vertical-align: top;\n",
       "    }\n",
       "\n",
       "    .dataframe thead th {\n",
       "        text-align: right;\n",
       "    }\n",
       "</style>\n",
       "<table border=\"1\" class=\"dataframe\">\n",
       "  <thead>\n",
       "    <tr style=\"text-align: right;\">\n",
       "      <th></th>\n",
       "      <th>시군구</th>\n",
       "      <th>합계</th>\n",
       "      <th>01월</th>\n",
       "      <th>02월</th>\n",
       "      <th>03월</th>\n",
       "      <th>04월</th>\n",
       "      <th>05월</th>\n",
       "      <th>06월</th>\n",
       "      <th>07월</th>\n",
       "      <th>08월</th>\n",
       "      <th>...</th>\n",
       "      <th>03월.9</th>\n",
       "      <th>04월.9</th>\n",
       "      <th>05월.9</th>\n",
       "      <th>06월.9</th>\n",
       "      <th>07월.9</th>\n",
       "      <th>08월.9</th>\n",
       "      <th>09월.9</th>\n",
       "      <th>10월.9</th>\n",
       "      <th>11월.9</th>\n",
       "      <th>12월.9</th>\n",
       "    </tr>\n",
       "  </thead>\n",
       "  <tbody>\n",
       "    <tr>\n",
       "      <th>0</th>\n",
       "      <td>합계</td>\n",
       "      <td>11640</td>\n",
       "      <td>857</td>\n",
       "      <td>871</td>\n",
       "      <td>868</td>\n",
       "      <td>899</td>\n",
       "      <td>994</td>\n",
       "      <td>1000</td>\n",
       "      <td>928</td>\n",
       "      <td>912</td>\n",
       "      <td>...</td>\n",
       "      <td>1918</td>\n",
       "      <td>2099</td>\n",
       "      <td>2257</td>\n",
       "      <td>1990</td>\n",
       "      <td>2090</td>\n",
       "      <td>2194</td>\n",
       "      <td>2178</td>\n",
       "      <td>2501</td>\n",
       "      <td>2582</td>\n",
       "      <td>2259</td>\n",
       "    </tr>\n",
       "    <tr>\n",
       "      <th>1</th>\n",
       "      <td>종로구</td>\n",
       "      <td>410</td>\n",
       "      <td>24</td>\n",
       "      <td>30</td>\n",
       "      <td>29</td>\n",
       "      <td>38</td>\n",
       "      <td>27</td>\n",
       "      <td>29</td>\n",
       "      <td>36</td>\n",
       "      <td>37</td>\n",
       "      <td>...</td>\n",
       "      <td>54</td>\n",
       "      <td>68</td>\n",
       "      <td>62</td>\n",
       "      <td>49</td>\n",
       "      <td>62</td>\n",
       "      <td>62</td>\n",
       "      <td>54</td>\n",
       "      <td>86</td>\n",
       "      <td>69</td>\n",
       "      <td>66</td>\n",
       "    </tr>\n",
       "    <tr>\n",
       "      <th>2</th>\n",
       "      <td>중구</td>\n",
       "      <td>381</td>\n",
       "      <td>33</td>\n",
       "      <td>34</td>\n",
       "      <td>28</td>\n",
       "      <td>33</td>\n",
       "      <td>27</td>\n",
       "      <td>36</td>\n",
       "      <td>36</td>\n",
       "      <td>24</td>\n",
       "      <td>...</td>\n",
       "      <td>56</td>\n",
       "      <td>62</td>\n",
       "      <td>84</td>\n",
       "      <td>57</td>\n",
       "      <td>52</td>\n",
       "      <td>65</td>\n",
       "      <td>60</td>\n",
       "      <td>69</td>\n",
       "      <td>73</td>\n",
       "      <td>65</td>\n",
       "    </tr>\n",
       "    <tr>\n",
       "      <th>3</th>\n",
       "      <td>용산구</td>\n",
       "      <td>419</td>\n",
       "      <td>54</td>\n",
       "      <td>30</td>\n",
       "      <td>37</td>\n",
       "      <td>30</td>\n",
       "      <td>31</td>\n",
       "      <td>33</td>\n",
       "      <td>27</td>\n",
       "      <td>31</td>\n",
       "      <td>...</td>\n",
       "      <td>71</td>\n",
       "      <td>61</td>\n",
       "      <td>77</td>\n",
       "      <td>73</td>\n",
       "      <td>67</td>\n",
       "      <td>76</td>\n",
       "      <td>58</td>\n",
       "      <td>83</td>\n",
       "      <td>80</td>\n",
       "      <td>69</td>\n",
       "    </tr>\n",
       "    <tr>\n",
       "      <th>4</th>\n",
       "      <td>성동구</td>\n",
       "      <td>364</td>\n",
       "      <td>25</td>\n",
       "      <td>23</td>\n",
       "      <td>34</td>\n",
       "      <td>29</td>\n",
       "      <td>35</td>\n",
       "      <td>25</td>\n",
       "      <td>31</td>\n",
       "      <td>21</td>\n",
       "      <td>...</td>\n",
       "      <td>56</td>\n",
       "      <td>68</td>\n",
       "      <td>80</td>\n",
       "      <td>77</td>\n",
       "      <td>62</td>\n",
       "      <td>65</td>\n",
       "      <td>83</td>\n",
       "      <td>82</td>\n",
       "      <td>83</td>\n",
       "      <td>80</td>\n",
       "    </tr>\n",
       "  </tbody>\n",
       "</table>\n",
       "<p>5 rows × 131 columns</p>\n",
       "</div>"
      ],
      "text/plain": [
       "   시군구     합계  01월  02월  03월  04월  05월   06월  07월  08월  ...    03월.9  04월.9  \\\n",
       "0   합계  11640  857  871  868  899  994  1000  928  912  ...     1918   2099   \n",
       "1  종로구    410   24   30   29   38   27    29   36   37  ...       54     68   \n",
       "2   중구    381   33   34   28   33   27    36   36   24  ...       56     62   \n",
       "3  용산구    419   54   30   37   30   31    33   27   31  ...       71     61   \n",
       "4  성동구    364   25   23   34   29   35    25   31   21  ...       56     68   \n",
       "\n",
       "   05월.9  06월.9  07월.9  08월.9  09월.9  10월.9  11월.9  12월.9  \n",
       "0   2257   1990   2090   2194   2178   2501   2582   2259  \n",
       "1     62     49     62     62     54     86     69     66  \n",
       "2     84     57     52     65     60     69     73     65  \n",
       "3     77     73     67     76     58     83     80     69  \n",
       "4     80     77     62     65     83     82     83     80  \n",
       "\n",
       "[5 rows x 131 columns]"
      ]
     },
     "execution_count": 13,
     "metadata": {},
     "output_type": "execute_result"
    }
   ],
   "source": [
    "df.head()"
   ]
  },
  {
   "cell_type": "code",
   "execution_count": 4,
   "metadata": {},
   "outputs": [],
   "source": [
    "# 연도별 데이터 쪼개기 (2015~2019)\n",
    "df_2015 = df.loc[:,'01월.5':'12월.5']\n",
    "df_2016 = df.loc[:,'01월.6':'12월.6']\n",
    "df_2017 = df.loc[:,'01월.7':'12월.7']\n",
    "df_2018 = df.loc[:,'01월.8':'12월.8']\n",
    "df_2019 = df.loc[:,'01월.9':'12월.9']\n",
    "df_list = [df_2015, df_2016, df_2017, df_2018, df_2019]"
   ]
  },
  {
   "cell_type": "code",
   "execution_count": 14,
   "metadata": {},
   "outputs": [
    {
     "data": {
      "text/html": [
       "<div>\n",
       "<style scoped>\n",
       "    .dataframe tbody tr th:only-of-type {\n",
       "        vertical-align: middle;\n",
       "    }\n",
       "\n",
       "    .dataframe tbody tr th {\n",
       "        vertical-align: top;\n",
       "    }\n",
       "\n",
       "    .dataframe thead th {\n",
       "        text-align: right;\n",
       "    }\n",
       "</style>\n",
       "<table border=\"1\" class=\"dataframe\">\n",
       "  <thead>\n",
       "    <tr style=\"text-align: right;\">\n",
       "      <th></th>\n",
       "      <th>01월.5</th>\n",
       "      <th>02월.5</th>\n",
       "      <th>03월.5</th>\n",
       "      <th>04월.5</th>\n",
       "      <th>05월.5</th>\n",
       "      <th>06월.5</th>\n",
       "      <th>07월.5</th>\n",
       "      <th>08월.5</th>\n",
       "      <th>09월.5</th>\n",
       "      <th>10월.5</th>\n",
       "      <th>11월.5</th>\n",
       "      <th>12월.5</th>\n",
       "    </tr>\n",
       "  </thead>\n",
       "  <tbody>\n",
       "    <tr>\n",
       "      <th>0</th>\n",
       "      <td>1436</td>\n",
       "      <td>1371</td>\n",
       "      <td>1611</td>\n",
       "      <td>1455</td>\n",
       "      <td>1548</td>\n",
       "      <td>1347</td>\n",
       "      <td>1513</td>\n",
       "      <td>1565</td>\n",
       "      <td>1730</td>\n",
       "      <td>1877</td>\n",
       "      <td>1758</td>\n",
       "      <td>1693</td>\n",
       "    </tr>\n",
       "    <tr>\n",
       "      <th>1</th>\n",
       "      <td>41</td>\n",
       "      <td>36</td>\n",
       "      <td>38</td>\n",
       "      <td>42</td>\n",
       "      <td>57</td>\n",
       "      <td>36</td>\n",
       "      <td>45</td>\n",
       "      <td>49</td>\n",
       "      <td>48</td>\n",
       "      <td>68</td>\n",
       "      <td>52</td>\n",
       "      <td>59</td>\n",
       "    </tr>\n",
       "    <tr>\n",
       "      <th>2</th>\n",
       "      <td>45</td>\n",
       "      <td>30</td>\n",
       "      <td>82</td>\n",
       "      <td>53</td>\n",
       "      <td>51</td>\n",
       "      <td>46</td>\n",
       "      <td>40</td>\n",
       "      <td>58</td>\n",
       "      <td>49</td>\n",
       "      <td>53</td>\n",
       "      <td>64</td>\n",
       "      <td>59</td>\n",
       "    </tr>\n",
       "    <tr>\n",
       "      <th>3</th>\n",
       "      <td>50</td>\n",
       "      <td>51</td>\n",
       "      <td>75</td>\n",
       "      <td>50</td>\n",
       "      <td>56</td>\n",
       "      <td>45</td>\n",
       "      <td>54</td>\n",
       "      <td>53</td>\n",
       "      <td>64</td>\n",
       "      <td>66</td>\n",
       "      <td>59</td>\n",
       "      <td>56</td>\n",
       "    </tr>\n",
       "    <tr>\n",
       "      <th>4</th>\n",
       "      <td>52</td>\n",
       "      <td>58</td>\n",
       "      <td>42</td>\n",
       "      <td>37</td>\n",
       "      <td>43</td>\n",
       "      <td>43</td>\n",
       "      <td>59</td>\n",
       "      <td>61</td>\n",
       "      <td>52</td>\n",
       "      <td>75</td>\n",
       "      <td>53</td>\n",
       "      <td>47</td>\n",
       "    </tr>\n",
       "  </tbody>\n",
       "</table>\n",
       "</div>"
      ],
      "text/plain": [
       "   01월.5  02월.5  03월.5  04월.5  05월.5  06월.5  07월.5  08월.5  09월.5  10월.5  \\\n",
       "0   1436   1371   1611   1455   1548   1347   1513   1565   1730   1877   \n",
       "1     41     36     38     42     57     36     45     49     48     68   \n",
       "2     45     30     82     53     51     46     40     58     49     53   \n",
       "3     50     51     75     50     56     45     54     53     64     66   \n",
       "4     52     58     42     37     43     43     59     61     52     75   \n",
       "\n",
       "   11월.5  12월.5  \n",
       "0   1758   1693  \n",
       "1     52     59  \n",
       "2     64     59  \n",
       "3     59     56  \n",
       "4     53     47  "
      ]
     },
     "execution_count": 14,
     "metadata": {},
     "output_type": "execute_result"
    }
   ],
   "source": [
    "df_2015.head()"
   ]
  },
  {
   "cell_type": "code",
   "execution_count": 6,
   "metadata": {},
   "outputs": [
    {
     "data": {
      "text/plain": [
       "'종로구'"
      ]
     },
     "execution_count": 6,
     "metadata": {},
     "output_type": "execute_result"
    }
   ],
   "source": [
    "df.iloc[1,0]"
   ]
  },
  {
   "cell_type": "code",
   "execution_count": 15,
   "metadata": {},
   "outputs": [
    {
     "data": {
      "text/html": [
       "<div>\n",
       "<style scoped>\n",
       "    .dataframe tbody tr th:only-of-type {\n",
       "        vertical-align: middle;\n",
       "    }\n",
       "\n",
       "    .dataframe tbody tr th {\n",
       "        vertical-align: top;\n",
       "    }\n",
       "\n",
       "    .dataframe thead th {\n",
       "        text-align: right;\n",
       "    }\n",
       "</style>\n",
       "<table border=\"1\" class=\"dataframe\">\n",
       "  <thead>\n",
       "    <tr style=\"text-align: right;\">\n",
       "      <th></th>\n",
       "      <th>합계.5</th>\n",
       "      <th>합계.6</th>\n",
       "      <th>합계.7</th>\n",
       "      <th>합계.8</th>\n",
       "      <th>합계.9</th>\n",
       "    </tr>\n",
       "  </thead>\n",
       "  <tbody>\n",
       "    <tr>\n",
       "      <th>0</th>\n",
       "      <td>18904</td>\n",
       "      <td>20254</td>\n",
       "      <td>22101</td>\n",
       "      <td>25163</td>\n",
       "      <td>25983</td>\n",
       "    </tr>\n",
       "    <tr>\n",
       "      <th>1</th>\n",
       "      <td>571</td>\n",
       "      <td>617</td>\n",
       "      <td>658</td>\n",
       "      <td>750</td>\n",
       "      <td>732</td>\n",
       "    </tr>\n",
       "    <tr>\n",
       "      <th>2</th>\n",
       "      <td>630</td>\n",
       "      <td>615</td>\n",
       "      <td>673</td>\n",
       "      <td>757</td>\n",
       "      <td>766</td>\n",
       "    </tr>\n",
       "    <tr>\n",
       "      <th>3</th>\n",
       "      <td>679</td>\n",
       "      <td>695</td>\n",
       "      <td>694</td>\n",
       "      <td>839</td>\n",
       "      <td>840</td>\n",
       "    </tr>\n",
       "    <tr>\n",
       "      <th>4</th>\n",
       "      <td>622</td>\n",
       "      <td>616</td>\n",
       "      <td>763</td>\n",
       "      <td>821</td>\n",
       "      <td>862</td>\n",
       "    </tr>\n",
       "  </tbody>\n",
       "</table>\n",
       "</div>"
      ],
      "text/plain": [
       "    합계.5   합계.6   합계.7   합계.8   합계.9\n",
       "0  18904  20254  22101  25163  25983\n",
       "1    571    617    658    750    732\n",
       "2    630    615    673    757    766\n",
       "3    679    695    694    839    840\n",
       "4    622    616    763    821    862"
      ]
     },
     "execution_count": 15,
     "metadata": {},
     "output_type": "execute_result"
    }
   ],
   "source": [
    "# 근 5년간 사고 건수가 많은 자치구 Top 5 구하기\n",
    "df_2015_total = df.loc[:,'합계.5'] \n",
    "df_2016_total = df.loc[:,'합계.6'] \n",
    "df_2017_total = df.loc[:,'합계.7'] \n",
    "df_2018_total = df.loc[:,'합계.8'] \n",
    "df_2019_total = df.loc[:,'합계.9'] \n",
    "\n",
    "df_total = pd.concat([df_2015_total,df_2016_total,df_2017_total,df_2018_total,df_2019_total], axis=1)\n",
    "df_total.head()"
   ]
  },
  {
   "cell_type": "code",
   "execution_count": 8,
   "metadata": {},
   "outputs": [
    {
     "data": {
      "text/plain": [
       "16     강남구\n",
       "19     서초구\n",
       "18     송파구\n",
       "13    영등포구\n",
       "11     강서구\n",
       "Name: 시군구, dtype: object"
      ]
     },
     "execution_count": 8,
     "metadata": {},
     "output_type": "execute_result"
    }
   ],
   "source": [
    "df_total['sum'] = df_total.sum(axis=1) # 근 5년간 사고건수 합 컬럼 추가\n",
    "df_top5 = df_total.sort_values('sum',ascending=False).head(6) # 오름차순 정렬 후 top 5개 골라내기\n",
    "df_top5.drop(0, inplace=True) # '합계 row' 필터링\n",
    "df_top5_name = df.iloc[df_top5.index,0]\n",
    "df_top5_name"
   ]
  },
  {
   "cell_type": "code",
   "execution_count": 9,
   "metadata": {},
   "outputs": [
    {
     "data": {
      "text/html": [
       "<div>\n",
       "<style scoped>\n",
       "    .dataframe tbody tr th:only-of-type {\n",
       "        vertical-align: middle;\n",
       "    }\n",
       "\n",
       "    .dataframe tbody tr th {\n",
       "        vertical-align: top;\n",
       "    }\n",
       "\n",
       "    .dataframe thead th {\n",
       "        text-align: right;\n",
       "    }\n",
       "</style>\n",
       "<table border=\"1\" class=\"dataframe\">\n",
       "  <thead>\n",
       "    <tr style=\"text-align: right;\">\n",
       "      <th></th>\n",
       "      <th>합계.5</th>\n",
       "      <th>합계.6</th>\n",
       "      <th>합계.7</th>\n",
       "      <th>합계.8</th>\n",
       "      <th>합계.9</th>\n",
       "      <th>sum</th>\n",
       "    </tr>\n",
       "  </thead>\n",
       "  <tbody>\n",
       "    <tr>\n",
       "      <th>16</th>\n",
       "      <td>1377</td>\n",
       "      <td>1505</td>\n",
       "      <td>1786</td>\n",
       "      <td>2124</td>\n",
       "      <td>2263</td>\n",
       "      <td>9055</td>\n",
       "    </tr>\n",
       "    <tr>\n",
       "      <th>19</th>\n",
       "      <td>1220</td>\n",
       "      <td>1333</td>\n",
       "      <td>1479</td>\n",
       "      <td>1756</td>\n",
       "      <td>1845</td>\n",
       "      <td>7633</td>\n",
       "    </tr>\n",
       "    <tr>\n",
       "      <th>18</th>\n",
       "      <td>1043</td>\n",
       "      <td>1112</td>\n",
       "      <td>1264</td>\n",
       "      <td>1475</td>\n",
       "      <td>1575</td>\n",
       "      <td>6469</td>\n",
       "    </tr>\n",
       "    <tr>\n",
       "      <th>13</th>\n",
       "      <td>1022</td>\n",
       "      <td>1124</td>\n",
       "      <td>1203</td>\n",
       "      <td>1349</td>\n",
       "      <td>1341</td>\n",
       "      <td>6039</td>\n",
       "    </tr>\n",
       "    <tr>\n",
       "      <th>11</th>\n",
       "      <td>893</td>\n",
       "      <td>1017</td>\n",
       "      <td>1141</td>\n",
       "      <td>1292</td>\n",
       "      <td>1410</td>\n",
       "      <td>5753</td>\n",
       "    </tr>\n",
       "  </tbody>\n",
       "</table>\n",
       "</div>"
      ],
      "text/plain": [
       "    합계.5  합계.6  합계.7  합계.8  합계.9   sum\n",
       "16  1377  1505  1786  2124  2263  9055\n",
       "19  1220  1333  1479  1756  1845  7633\n",
       "18  1043  1112  1264  1475  1575  6469\n",
       "13  1022  1124  1203  1349  1341  6039\n",
       "11   893  1017  1141  1292  1410  5753"
      ]
     },
     "execution_count": 9,
     "metadata": {},
     "output_type": "execute_result"
    }
   ],
   "source": [
    "df_top5"
   ]
  },
  {
   "cell_type": "code",
   "execution_count": 10,
   "metadata": {},
   "outputs": [
    {
     "data": {
      "text/plain": [
       "[16, 19, 18, 13, 11]"
      ]
     },
     "execution_count": 10,
     "metadata": {},
     "output_type": "execute_result"
    }
   ],
   "source": [
    "list(df_top5_name.index)"
   ]
  },
  {
   "cell_type": "code",
   "execution_count": 12,
   "metadata": {},
   "outputs": [
    {
     "name": "stdout",
     "output_type": "stream",
     "text": [
      "강남구\n"
     ]
    },
    {
     "data": {
      "text/plain": [
       "<Figure size 432x288 with 0 Axes>"
      ]
     },
     "metadata": {},
     "output_type": "display_data"
    },
    {
     "data": {
      "image/png": "[encoded data removed]",
      "text/plain": [
       "<Figure size 1440x360 with 5 Axes>"
      ]
     },
     "metadata": {},
     "output_type": "display_data"
    },
    {
     "name": "stdout",
     "output_type": "stream",
     "text": [
      "서초구\n"
     ]
    },
    {
     "data": {
      "text/plain": [
       "<Figure size 432x288 with 0 Axes>"
      ]
     },
     "metadata": {},
     "output_type": "display_data"
    },
    {
     "data": {
      "image/png": "[encoded data removed]",
      "text/plain": [
       "<Figure size 1440x360 with 5 Axes>"
      ]
     },
     "metadata": {},
     "output_type": "display_data"
    },
    {
     "name": "stdout",
     "output_type": "stream",
     "text": [
      "송파구\n"
     ]
    },
    {
     "data": {
      "text/plain": [
       "<Figure size 432x288 with 0 Axes>"
      ]
     },
     "metadata": {},
     "output_type": "display_data"
    },
    {
     "data": {
      "image/png": "[encoded data removed]",
      "text/plain": [
       "<Figure size 1440x360 with 5 Axes>"
      ]
     },
     "metadata": {},
     "output_type": "display_data"
    },
    {
     "name": "stdout",
     "output_type": "stream",
     "text": [
      "영등포구\n"
     ]
    },
    {
     "data": {
      "text/plain": [
       "<Figure size 432x288 with 0 Axes>"
      ]
     },
     "metadata": {},
     "output_type": "display_data"
    },
    {
     "data": {
      "image/png": "[encoded data removed]",
      "text/plain": [
       "<Figure size 1440x360 with 5 Axes>"
      ]
     },
     "metadata": {},
     "output_type": "display_data"
    },
    {
     "name": "stdout",
     "output_type": "stream",
     "text": [
      "강서구\n"
     ]
    },
    {
     "data": {
      "text/plain": [
       "<Figure size 432x288 with 0 Axes>"
      ]
     },
     "metadata": {},
     "output_type": "display_data"
    },
    {
     "data": {
      "image/png": "[encoded data removed]",
      "text/plain": [
       "<Figure size 1440x360 with 5 Axes>"
      ]
     },
     "metadata": {},
     "output_type": "display_data"
    }
   ],
   "source": [
    "import matplotlib.pyplot as plt\n",
    "\n",
    "plt.rcParams['font.family'] = 'Malgun Gothic'\n",
    "index = ['1월','2월','3월','4월','5월','6월','7월','8월','9월','10월','11월','12월']\n",
    "year_list= [ 2015,2016,2017,2018,2019]\n",
    "\n",
    "for gu in list(df_top5_name.index):\n",
    "#     print(gu)\n",
    "    print(df.iloc[gu,0])\n",
    "    plt.figure()\n",
    "    plt.figure(figsize=[20,5])\n",
    "    for i, val in enumerate(year_list):\n",
    "        plt.subplot(1,5,i+1).set_title(val)\n",
    "        plt.bar(index, df_list[i].iloc[gu], color='m')\n",
    "    title = '서울시 {} 5년 간 월 별 노인 교통사고 건수'.format(df.iloc[gu,0])\n",
    "    plt.suptitle(title)        \n",
    "    plt.show()"
   ]
  },
  {
   "cell_type": "code",
   "execution_count": null,
   "metadata": {},
   "outputs": [],
   "source": []
  }
 ],
 "metadata": {
  "kernelspec": {
   "display_name": "Python 3",
   "language": "python",
   "name": "python3"
  },
  "language_info": {
   "codemirror_mode": {
    "name": "ipython",
    "version": 3
   },
   "file_extension": ".py",
   "mimetype": "text/x-python",
   "name": "python",
   "nbconvert_exporter": "python",
   "pygments_lexer": "ipython3",
   "version": "3.6.5"
  }
 },
 "nbformat": 4,
 "nbformat_minor": 4
}
